{
 "cells": [
  {
   "cell_type": "markdown",
   "metadata": {},
   "source": [
    "# Matrix Normal for vectorized calculation\n",
    "\n",
    "## 1. Common $\\mu$\n",
    "If we have $N$ observations of the formt $y_i \\sim N(\\mu, C) $ we can compute \n",
    "$$ \\log p(Y | \\mu, C) = \\sum \\log p(y_i | \\mu, C) $$ using the matrix normal form "
   ]
  },
  {
   "cell_type": "code",
   "execution_count": 1,
   "metadata": {},
   "outputs": [],
   "source": [
    "import pandas as pd\n",
    "import numpy as np\n",
    "from numpy.linalg import cholesky\n",
    "from scipy.stats import norm, matrix_normal, multivariate_normal\n",
    "\n",
    "%matplotlib inline\n",
    "\n",
    "%load_ext autoreload\n",
    "%autoreload 2"
   ]
  },
  {
   "cell_type": "code",
   "execution_count": 2,
   "metadata": {},
   "outputs": [],
   "source": [
    "np.random.seed(123)"
   ]
  },
  {
   "cell_type": "code",
   "execution_count": 3,
   "metadata": {},
   "outputs": [
    {
     "data": {
      "text/plain": [
       "array([-1,  2])"
      ]
     },
     "execution_count": 3,
     "metadata": {},
     "output_type": "execute_result"
    }
   ],
   "source": [
    "# covariance matrix for each row\n",
    "M = np.array([[1,.2], [.2,2]]); M\n",
    "# cholesky(M)\n",
    "N = 7\n",
    "m = np.array([-1,2]); m"
   ]
  },
  {
   "cell_type": "code",
   "execution_count": 4,
   "metadata": {},
   "outputs": [
    {
     "data": {
      "text/plain": [
       "array([ 0.66718227, -1.70699631])"
      ]
     },
     "execution_count": 4,
     "metadata": {},
     "output_type": "execute_result"
    }
   ],
   "source": [
    "# each row is distributed as a multivariate Normal\n",
    "multivariate_normal.rvs(cov=M)"
   ]
  },
  {
   "cell_type": "code",
   "execution_count": 5,
   "metadata": {},
   "outputs": [
    {
     "data": {
      "text/plain": [
       "array([[-1.37394628,  0.67604909],\n",
       "       [ 1.43387925, -1.11742566],\n",
       "       [-1.06818943, -3.32268126],\n",
       "       [-0.49274514,  1.93556751],\n",
       "       [-0.27449164, -0.93423936],\n",
       "       [-0.21249595,  2.20940603],\n",
       "       [-0.53809517, -0.54192286]])"
      ]
     },
     "execution_count": 5,
     "metadata": {},
     "output_type": "execute_result"
    }
   ],
   "source": [
    "# Generate a matrix Y where each row is distributed as a multivariate Normal\n",
    "Y = multivariate_normal.rvs(cov=M, size=N); Y"
   ]
  },
  {
   "cell_type": "code",
   "execution_count": 6,
   "metadata": {},
   "outputs": [
    {
     "data": {
      "text/plain": [
       "-34.16233067298012"
      ]
     },
     "execution_count": 6,
     "metadata": {},
     "output_type": "execute_result"
    }
   ],
   "source": [
    "# Find the logpdf of the data Y, which is defined by the sum of the logpodf of each row\n",
    "lpdf = np.sum(multivariate_normal.logpdf(Y,\n",
    "                                         mean = m,\n",
    "                                         cov=M)); lpdf"
   ]
  },
  {
   "cell_type": "code",
   "execution_count": 7,
   "metadata": {},
   "outputs": [
    {
     "data": {
      "text/plain": [
       "-34.16233067298012"
      ]
     },
     "execution_count": 7,
     "metadata": {},
     "output_type": "execute_result"
    }
   ],
   "source": [
    "# Equivalent to the logpdf of the following matrix normal\n",
    "matrix_normal.logpdf(Y,\n",
    "                     mean= np.tile(m, N).reshape((N,2)),\n",
    "                     rowcov=np.eye(N),\n",
    "                     colcov=M)"
   ]
  },
  {
   "cell_type": "code",
   "execution_count": 8,
   "metadata": {},
   "outputs": [
    {
     "data": {
      "text/plain": [
       "-34.16233067298012"
      ]
     },
     "execution_count": 8,
     "metadata": {},
     "output_type": "execute_result"
    }
   ],
   "source": [
    "# Equivalent to the logpdf of the following vectorized multivariate normal\n",
    "C = np.kron(np.eye(N), M)\n",
    "multivariate_normal.logpdf(Y.flatten(),\n",
    "                           mean = np.tile(m, N),\n",
    "                           cov=C)"
   ]
  },
  {
   "cell_type": "markdown",
   "metadata": {},
   "source": [
    "## 2. Different $\\mu_i$ for each row \n",
    "\n",
    "If we have $N$ observations of the formt $y_i \\sim N(\\mu_i, C) $ we can compute \n",
    "$$ \\log p(Y | \\mu, C) = \\sum \\log p(y_i | \\mu_i, C) $$ using the matrix normal form "
   ]
  },
  {
   "cell_type": "code",
   "execution_count": 9,
   "metadata": {},
   "outputs": [
    {
     "data": {
      "text/plain": [
       "array([[ 2.70117281,  2.68722774],\n",
       "       [ 0.64293931,  1.33607728],\n",
       "       [ 1.63445666,  0.75736757],\n",
       "       [ 0.8794823 , -1.53007685],\n",
       "       [-0.95261484, -1.63968777],\n",
       "       [-1.13069981,  1.53668538],\n",
       "       [-0.86756802, -0.03658182]])"
      ]
     },
     "execution_count": 9,
     "metadata": {},
     "output_type": "execute_result"
    }
   ],
   "source": [
    "# Generate a matrix mm which will be the mean mu_i of each row of data.\n",
    "mm = multivariate_normal.rvs(cov=M, size=N); mm"
   ]
  },
  {
   "cell_type": "code",
   "execution_count": 10,
   "metadata": {},
   "outputs": [
    {
     "data": {
      "text/plain": [
       "-38.23246823539996"
      ]
     },
     "execution_count": 10,
     "metadata": {},
     "output_type": "execute_result"
    }
   ],
   "source": [
    "# Find the logpdf of the data Y, which is defined by the sum of the logpodf of each row\n",
    "lps = np.empty(N)\n",
    "for i in range(N):\n",
    "    lps[i] = multivariate_normal.logpdf(Y[i],\n",
    "                                         mean = mm[i],\n",
    "                                         cov=M)\n",
    "\n",
    "lpdf = np.sum(lps); lpdf"
   ]
  },
  {
   "cell_type": "code",
   "execution_count": 11,
   "metadata": {},
   "outputs": [
    {
     "data": {
      "text/plain": [
       "-38.23246823539996"
      ]
     },
     "execution_count": 11,
     "metadata": {},
     "output_type": "execute_result"
    }
   ],
   "source": [
    "# Equivalent to the logpdf of the following matrix normal\n",
    "matrix_normal.logpdf(Y,\n",
    "                     mean= mm,\n",
    "                     rowcov=np.eye(N),\n",
    "                     colcov=M)"
   ]
  }
 ],
 "metadata": {
  "kernelspec": {
   "display_name": "Python 3",
   "language": "python",
   "name": "python3"
  },
  "language_info": {
   "codemirror_mode": {
    "name": "ipython",
    "version": 3
   },
   "file_extension": ".py",
   "mimetype": "text/x-python",
   "name": "python",
   "nbconvert_exporter": "python",
   "pygments_lexer": "ipython3",
   "version": "3.6.4"
  }
 },
 "nbformat": 4,
 "nbformat_minor": 2
}
